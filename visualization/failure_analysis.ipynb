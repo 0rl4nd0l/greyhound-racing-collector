import pandas as pd
import seaborn as sns
import matplotlib.pyplot as plt
from sqlalchemy import create_engine

# Load database
engine = create_engine('sqlite:///greyhound_racing_collector.db')

# Load data from database
race_metadata_query = 'SELECT race_id, venue, race_date, data_source FROM race_metadata'
dog_race_data_query = 'SELECT race_id, data_source FROM dog_race_data_backup'

race_metadata = pd.read_sql(race_metadata_query, engine)
dog_race_data = pd.read_sql(dog_race_data_query, engine)

# Load data from CSV
csv_files = ['processed/step6_cleanup/Race 1 - BEN - 02 July 2025.csv']
csv_data = []
for file in csv_files:
    data = pd.read_csv(file)
    data['data_source'] = 'CSV'  # Assuming CSV as source
    csv_data.append(data)
csv_combined = pd.concat(csv_data)

# Merge data
combined_data = pd.concat([race_metadata, dog_race_data, csv_combined], ignore_index=True)

# Pivot table for failure by source and track
pivot_table = pd.pivot_table(combined_data, index='venue', columns='data_source', aggfunc='size', fill_value=0)

# Pivot table for failure by source and day
combined_data['day'] = pd.to_datetime(combined_data['race_date']).dt.day_name()
pivot_table_day = pd.pivot_table(combined_data, index='day', columns='data_source', aggfunc='size', fill_value=0)

# Visualize with heatmaps
plt.figure(figsize=(12, 6))
sns.heatmap(pivot_table, annot=True, fmt='d', cmap='YlGnBu')
plt.title('Failure by Source and Track')
plt.savefig('failure_by_source_and_track.png')

plt.figure(figsize=(12, 6))
sns.heatmap(pivot_table_day, annot=True, fmt='d', cmap='YlGnBu')
plt.title('Failure by Source and Day')
plt.savefig('failure_by_source_and_day.png')
